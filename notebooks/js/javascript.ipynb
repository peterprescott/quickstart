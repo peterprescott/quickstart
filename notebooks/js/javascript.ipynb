{
 "cells": [
  {
   "cell_type": "markdown",
   "metadata": {},
   "source": [
    "# Use RMarkdown..."
   ]
  },
  {
   "cell_type": "markdown",
   "metadata": {},
   "source": [
    "...when you want to weave together code (it doesn't have to be R!), and narrative (efficiently written in Markdown)."
   ]
  },
  {
   "cell_type": "markdown",
   "metadata": {},
   "source": [
    "## With Javascript"
   ]
  },
  {
   "cell_type": "code",
   "execution_count": 2,
   "metadata": {},
   "outputs": [
    {
     "name": "stdout",
     "output_type": "stream",
     "text": [
      "Hello world\n"
     ]
    }
   ],
   "source": [
    "console.log('Hello world')"
   ]
  },
  {
   "cell_type": "code",
   "execution_count": 4,
   "metadata": {},
   "outputs": [],
   "source": [
    "function multiply(x,y) { return x*y }"
   ]
  },
  {
   "cell_type": "code",
   "execution_count": 11,
   "metadata": {},
   "outputs": [
    {
     "data": {
      "text/plain": [
       "6"
      ]
     },
     "execution_count": 11,
     "metadata": {},
     "output_type": "execute_result"
    }
   ],
   "source": [
    "multiply(2,3)"
   ]
  },
  {
   "cell_type": "markdown",
   "metadata": {},
   "source": [
    "## Import Axios and call APIs"
   ]
  },
  {
   "cell_type": "code",
   "execution_count": 9,
   "metadata": {},
   "outputs": [
    {
     "data": {
      "text/plain": [
       "<ref *1> [Function: wrap] {\n",
       "  request: [Function: wrap],\n",
       "  getUri: [Function: wrap],\n",
       "  delete: [Function: wrap],\n",
       "  get: [Function: wrap],\n",
       "  head: [Function: wrap],\n",
       "  options: [Function: wrap],\n",
       "  post: [Function: wrap],\n",
       "  put: [Function: wrap],\n",
       "  patch: [Function: wrap],\n",
       "  defaults: {\n",
       "    adapter: [Function: httpAdapter],\n",
       "    transformRequest: [ [Function: transformRequest] ],\n",
       "    transformResponse: [ [Function: transformResponse] ],\n",
       "    timeout: 0,\n",
       "    xsrfCookieName: 'XSRF-TOKEN',\n",
       "    xsrfHeaderName: 'X-XSRF-TOKEN',\n",
       "    maxContentLength: -1,\n",
       "    validateStatus: [Function: validateStatus],\n",
       "    headers: {\n",
       "      common: [Object],\n",
       "      delete: {},\n",
       "      get: {},\n",
       "      head: {},\n",
       "      post: [Object],\n",
       "      put: [Object],\n",
       "      patch: [Object]\n",
       "    }\n",
       "  },\n",
       "  interceptors: {\n",
       "    request: InterceptorManager { handlers: [] },\n",
       "    response: InterceptorManager { handlers: [] }\n",
       "  },\n",
       "  Axios: [Function: Axios],\n",
       "  create: [Function: create],\n",
       "  Cancel: [Function: Cancel],\n",
       "  CancelToken: [Function: CancelToken] { source: [Function: source] },\n",
       "  isCancel: [Function: isCancel],\n",
       "  all: [Function: all],\n",
       "  spread: [Function: spread],\n",
       "  default: [Circular *1]\n",
       "}"
      ]
     },
     "execution_count": 9,
     "metadata": {},
     "output_type": "execute_result"
    }
   ],
   "source": [
    "axios = require('axios')"
   ]
  },
  {
   "cell_type": "code",
   "execution_count": 13,
   "metadata": {},
   "outputs": [],
   "source": [
    "var apiURL = 'http://localhost:5000'"
   ]
  },
  {
   "cell_type": "code",
   "execution_count": 36,
   "metadata": {},
   "outputs": [
    {
     "name": "stdout",
     "output_type": "stream",
     "text": [
      "[\n",
      "  {\n",
      "    id: 1,\n",
      "    task: 'go to the gym',\n",
      "    uri: 'http://localhost:5000/todos/1'\n",
      "  },\n",
      "  { id: 2, task: 'go outside!', uri: 'http://localhost:5000/todos/2' },\n",
      "  {\n",
      "    id: 6,\n",
      "    task: 'do something else',\n",
      "    uri: 'http://localhost:5000/todos/6'\n",
      "  },\n",
      "  { id: 7, task: 'connect', uri: 'http://localhost:5000/todos/7' }\n",
      "]\n",
      "200\n"
     ]
    }
   ],
   "source": [
    "axios.get(this.apiURL + '/todos')\n",
    "  .then(r => (console.log(r.data), console.log(r.status)))"
   ]
  },
  {
   "cell_type": "code",
   "execution_count": 27,
   "metadata": {},
   "outputs": [
    {
     "name": "stdout",
     "output_type": "stream",
     "text": [
      "{\n",
      "  id: 6,\n",
      "  task: 'do something else',\n",
      "  uri: 'http://localhost:5000/todos/6'\n",
      "}\n"
     ]
    }
   ],
   "source": [
    "axios.post(this.apiURL + '/todos',\n",
    "          {'task': 'do something else'})\n",
    "  .then(r => console.log(r.data))"
   ]
  },
  {
   "cell_type": "code",
   "execution_count": 34,
   "metadata": {},
   "outputs": [],
   "source": [
    "var id = 4"
   ]
  },
  {
   "cell_type": "code",
   "execution_count": 35,
   "metadata": {},
   "outputs": [
    {
     "data": {
      "text/plain": [
       "{\n",
       "  status: 204,\n",
       "  statusText: 'NO CONTENT',\n",
       "  headers: {\n",
       "    'content-type': 'application/json',\n",
       "    'access-control-allow-origin': '*',\n",
       "    server: 'Werkzeug/1.0.1 Python/3.8.3',\n",
       "    date: 'Mon, 18 May 2020 10:51:15 GMT'\n",
       "  },\n",
       "  config: {\n",
       "    url: 'http://localhost:5000/todos/4',\n",
       "    method: 'delete',\n",
       "    headers: {\n",
       "      Accept: 'application/json, text/plain, */*',\n",
       "      'User-Agent': 'axios/0.19.2'\n",
       "    },\n",
       "    transformRequest: [ [Function: transformRequest] ],\n",
       "    transformResponse: [ [Function: transformResponse] ],\n",
       "    timeout: 0,\n",
       "    adapter: [Function: httpAdapter],\n",
       "    xsrfCookieName: 'XSRF-TOKEN',\n",
       "    xsrfHeaderName: 'X-XSRF-TOKEN',\n",
       "    maxContentLength: -1,\n",
       "    validateStatus: [Function: validateStatus],\n",
       "    data: undefined\n",
       "  },\n",
       "  request: <ref *1> ClientRequest {\n",
       "    _events: [Object: null prototype] {\n",
       "      socket: [Function (anonymous)],\n",
       "      abort: [Function (anonymous)],\n",
       "      aborted: [Function (anonymous)],\n",
       "      error: [Function (anonymous)],\n",
       "      timeout: [Function (anonymous)],\n",
       "      prefinish: [Function: requestOnPrefinish]\n",
       "    },\n",
       "    _eventsCount: 6,\n",
       "    _maxListeners: undefined,\n",
       "    outputData: [],\n",
       "    outputSize: 0,\n",
       "    writable: true,\n",
       "    _last: true,\n",
       "    chunkedEncoding: false,\n",
       "    shouldKeepAlive: false,\n",
       "    useChunkedEncodingByDefault: false,\n",
       "    sendDate: false,\n",
       "    _removedConnection: false,\n",
       "    _removedContLen: false,\n",
       "    _removedTE: false,\n",
       "    _contentLength: 0,\n",
       "    _hasBody: true,\n",
       "    _trailer: '',\n",
       "    finished: true,\n",
       "    _headerSent: true,\n",
       "    socket: Socket {\n",
       "      connecting: false,\n",
       "      _hadError: false,\n",
       "      _parent: null,\n",
       "      _host: 'localhost',\n",
       "      _readableState: [ReadableState],\n",
       "      readable: true,\n",
       "      _events: [Object: null prototype],\n",
       "      _eventsCount: 7,\n",
       "      _maxListeners: undefined,\n",
       "      _writableState: [WritableState],\n",
       "      writable: false,\n",
       "      allowHalfOpen: false,\n",
       "      _sockname: null,\n",
       "      _pendingData: null,\n",
       "      _pendingEncoding: '',\n",
       "      server: null,\n",
       "      _server: null,\n",
       "      parser: null,\n",
       "      _httpMessage: [Circular *1],\n",
       "      [Symbol(asyncId)]: 529,\n",
       "      [Symbol(kHandle)]: [TCP],\n",
       "      [Symbol(kSetNoDelay)]: false,\n",
       "      [Symbol(lastWriteQueueSize)]: 0,\n",
       "      [Symbol(timeout)]: null,\n",
       "      [Symbol(kBuffer)]: null,\n",
       "      [Symbol(kBufferCb)]: null,\n",
       "      [Symbol(kBufferGen)]: null,\n",
       "      [Symbol(kCapture)]: false,\n",
       "      [Symbol(kBytesRead)]: 0,\n",
       "      [Symbol(kBytesWritten)]: 0\n",
       "    },\n",
       "    _header: 'DELETE /todos/4 HTTP/1.1\\r\\n' +\n",
       "      'Accept: application/json, text/plain, */*\\r\\n' +\n",
       "      'User-Agent: axios/0.19.2\\r\\n' +\n",
       "      'Host: localhost:5000\\r\\n' +\n",
       "      'Connection: close\\r\\n' +\n",
       "      '\\r\\n',\n",
       "    _onPendingData: [Function: noopPendingOutput],\n",
       "    agent: Agent {\n",
       "      _events: [Object: null prototype],\n",
       "      _eventsCount: 2,\n",
       "      _maxListeners: undefined,\n",
       "      defaultPort: 80,\n",
       "      protocol: 'http:',\n",
       "      options: [Object],\n",
       "      requests: {},\n",
       "      sockets: [Object],\n",
       "      freeSockets: {},\n",
       "      keepAliveMsecs: 1000,\n",
       "      keepAlive: false,\n",
       "      maxSockets: Infinity,\n",
       "      maxFreeSockets: 256,\n",
       "      [Symbol(kCapture)]: false\n",
       "    },\n",
       "    socketPath: undefined,\n",
       "    method: 'DELETE',\n",
       "    maxHeaderSize: undefined,\n",
       "    insecureHTTPParser: undefined,\n",
       "    path: '/todos/4',\n",
       "    _ended: true,\n",
       "    res: IncomingMessage {\n",
       "      _readableState: [ReadableState],\n",
       "      readable: false,\n",
       "      _events: [Object: null prototype],\n",
       "      _eventsCount: 3,\n",
       "      _maxListeners: undefined,\n",
       "      socket: [Socket],\n",
       "      httpVersionMajor: 1,\n",
       "      httpVersionMinor: 0,\n",
       "      httpVersion: '1.0',\n",
       "      complete: true,\n",
       "      headers: [Object],\n",
       "      rawHeaders: [Array],\n",
       "      trailers: {},\n",
       "      rawTrailers: [],\n",
       "      aborted: false,\n",
       "      upgrade: false,\n",
       "      url: '',\n",
       "      method: null,\n",
       "      statusCode: 204,\n",
       "      statusMessage: 'NO CONTENT',\n",
       "      client: [Socket],\n",
       "      _consuming: false,\n",
       "      _dumped: false,\n",
       "      req: [Circular *1],\n",
       "      responseUrl: 'http://localhost:5000/todos/4',\n",
       "      redirects: [],\n",
       "      [Symbol(kCapture)]: false\n",
       "    },\n",
       "    aborted: false,\n",
       "    timeoutCb: null,\n",
       "    upgradeOrConnect: false,\n",
       "    parser: null,\n",
       "    maxHeadersCount: null,\n",
       "    reusedSocket: false,\n",
       "    _redirectable: Writable {\n",
       "      _writableState: [WritableState],\n",
       "      writable: true,\n",
       "      _events: [Object: null prototype],\n",
       "      _eventsCount: 2,\n",
       "      _maxListeners: undefined,\n",
       "      _options: [Object],\n",
       "      _redirectCount: 0,\n",
       "      _redirects: [],\n",
       "      _requestBodyLength: 0,\n",
       "      _requestBodyBuffers: [],\n",
       "      _onNativeResponse: [Function (anonymous)],\n",
       "      _currentRequest: [Circular *1],\n",
       "      _currentUrl: 'http://localhost:5000/todos/4',\n",
       "      [Symbol(kCapture)]: false\n",
       "    },\n",
       "    [Symbol(kCapture)]: false,\n",
       "    [Symbol(kNeedDrain)]: false,\n",
       "    [Symbol(corked)]: 0,\n",
       "    [Symbol(kOutHeaders)]: [Object: null prototype] {\n",
       "      accept: [Array],\n",
       "      'user-agent': [Array],\n",
       "      host: [Array]\n",
       "    }\n",
       "  },\n",
       "  data: ''\n",
       "}"
      ]
     },
     "execution_count": 35,
     "metadata": {},
     "output_type": "execute_result"
    }
   ],
   "source": [
    "axios.delete(this.apiURL + '/todos/' + id)"
   ]
  }
 ],
 "metadata": {
  "jupytext": {
   "formats": "notebooks/js//ipynb,rmd//Rmd"
  },
  "kernelspec": {
   "display_name": "Javascript (Node.js)",
   "language": "javascript",
   "name": "javascript"
  },
  "language_info": {
   "file_extension": ".js",
   "mimetype": "application/javascript",
   "name": "javascript",
   "version": "13.13.0"
  }
 },
 "nbformat": 4,
 "nbformat_minor": 4
}
